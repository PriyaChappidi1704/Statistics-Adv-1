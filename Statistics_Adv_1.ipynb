{
  "nbformat": 4,
  "nbformat_minor": 0,
  "metadata": {
    "colab": {
      "provenance": []
    },
    "kernelspec": {
      "name": "python3",
      "display_name": "Python 3"
    },
    "language_info": {
      "name": "python"
    }
  },
  "cells": [
    {
      "cell_type": "markdown",
      "source": [
        "# **Statistics Advance Part-1**"
      ],
      "metadata": {
        "id": "ZHnr9c_W81Df"
      }
    },
    {
      "cell_type": "markdown",
      "source": [
        "1. What is a random variable in probability theory?\n",
        "  - A random variable is a variable whose values depend on outcomes of a random phenomenon. It assigns numerical values to events in a sample space. Random variables can be either discrete or continuous.\n",
        "2. What are the types of random variables?\n",
        "  - There are two main types: discrete and continuous random variables.\n",
        "  - Discrete random variables take countable values (like 0, 1, 2...).\n",
        "  - Continuous random variables take any value in a continuous range.\n",
        "3. What is the difference between discrete and continuous distributions?\n",
        "  - Discrete distributions deal with countable outcomes (e.g., dice rolls).\n",
        "  - Continuous distributions deal with infinite values over an interval (e.g.,height).\n",
        "  - Probability for a discrete value ≠ 0, but for a continuous value = 0 (use area under curve).\n",
        "4. What are probability distribution functions (PDF)?\n",
        "  - A Probability Distribution Function (PDF) shows how probabilities are distributed over values. For discrete variables, it’s called a probability mass function (PMF). For continuous variables, PDF gives probability density (area under curve = probability).\n",
        "5. How do cumulative distribution functions (CDF) differ from probability distribution functions (PDF)?\n",
        "  - The Cumulative Distribution Function (CDF) gives the probability that a variable is less than or equal to a value. While PDF gives probability density, CDF gives accumulated probability. CDF is always non-decreasing and ranges from 0 to 1.\n",
        "6. What is a discrete uniform distribution?\n",
        "  - A discrete uniform distribution has equal probability for all possible outcomes. Each outcome is equally likely (e.g., rolling a fair die).\n",
        "Its PMF is P(X=x)=1/n where n is the number of outcomes.\n",
        "7. What are the key properties of a Bernoulli distribution?\n",
        "  - Bernoulli distribution models a single trial with two outcomes: success (1) and failure (0). The probability of success is p, and failure is 1-p. Its mean is p, and variance is p(1−p).\n",
        "8. What is the binomial distribution, and how is it used in probability?\n",
        "  - The binomial distribution models the number of successes in n independent Bernoulli trials. It uses parameters n (trials) and p (success probability).\n",
        "It's used in situations like counting pass/fail outcomes in tests.\n",
        "9. What is the Poisson distribution and where is it applied?\n",
        "  - The Poisson distribution models the number of events in a fixed interval of time/space. It's defined by a rate parameter λ. Used in scenarios like number of calls per hour or arrivals at a station.\n",
        "10. What is a continuous uniform distribution?\n",
        "  - A continuous uniform distribution has equal probability across a continuous range. Its PDF is constant over the interval [a,b].\n",
        "Example: choosing a random time between 2 PM and 3 PM.\n",
        "11. What are the characteristics of a normal distribution?\n",
        "  - The normal distribution is symmetric, bell-shaped, and centered at the mean.\n",
        "Its mean = median = mode, and it follows the empirical rule.\n",
        "Many natural phenomena follow this distribution.\n",
        "12. What is the standard normal distribution, and why is it important?\n",
        "  - It is a normal distribution with mean 0 and standard deviation 1.\n",
        "It allows comparison of scores from different normal distributions using Z-scores.\n",
        "It's the basis for many statistical methods.\n",
        "13.  What is the Central Limit Theorem (CLT), and why is it critical in statistics?\n",
        "  - The CLT states that the sampling distribution of the sample mean approaches a normal distribution as sample size increases.\n",
        "It applies regardless of the original distribution's shape.\n",
        "It allows us to make inferences using normal probability.\n",
        "14. How does the Central Limit Theorem relate to the normal distribution?\n",
        "  - According to CLT, means of large samples follow a normal distribution.\n",
        "This applies even if the population is not normal.\n",
        "It justifies the use of Z and t tests in statistics.\n",
        "15. What is the application of Z statistics in hypothesis testing?\n",
        "  - Z-statistics help determine whether to reject a null hypothesis.\n",
        "They measure how far a sample mean is from the population mean in standard deviations.\n",
        "Used when population standard deviation is known.\n",
        "16. How do you calculate a Z-score, and what does it represent?\n",
        "  - X-μ/σ, where X=value, μ=mean, σ=std deviation.\n",
        "It shows how many standard deviations a value is from the mean.\n",
        "It helps in comparing data from different scales.\n",
        "17. What are point estimates and interval estimates in statistics?\n",
        "  - Point estimate gives a single value as an estimate of a parameter (e.g., sample mean).\n",
        "Interval estimate gives a range with confidence level (e.g., 95% CI).\n",
        "Intervals provide more information than a single point.\n",
        "18. What is the significance of confidence intervals in statistical analysis?\n",
        "  - Confidence intervals indicate the range in which the population parameter lies with a certain confidence level.\n",
        "They provide a margin of error around a point estimate.\n",
        "Used in survey results, predictions, etc.\n",
        "19. What is the relationship between a Z-score and a confidence interval?\n",
        "  - Z-scores determine the boundaries of confidence intervals.\n",
        "For example, a 95% CI uses Z ≈ 1.96.\n",
        "Z-scores help find how far to go from the mean for a desired confidence level.\n",
        "20. How are Z-scores used to compare different distributions?\n",
        "  - Z-scores standardize values from different distributions.\n",
        "They convert raw scores into units of standard deviation.\n",
        "Useful for comparing test scores or performance across different scales.\n",
        "21. What are the assumptions for applying the Central Limit Theorem?\n",
        "  - Samples are independent.\n",
        "Sample size is sufficiently large (n ≥ 30 is common).\n",
        "Population should have finite mean and variance.\n",
        "22. What is the concept of expected value in a probability distribution?\n",
        "  - Expected value is the long-run average outcome of a random variable.\n",
        "It’s calculated as\n",
        "𝐸\n",
        "(\n",
        "𝑋\n",
        ")\n",
        "=\n",
        "∑\n",
        "𝑥\n",
        "⋅\n",
        "𝑃\n",
        "(\n",
        "𝑥\n",
        ")\n",
        "E(X)=∑x⋅P(x).\n",
        "It represents the theoretical mean.\n",
        "23. How does a probability distribution relate to the expected outcome of a random variable?\n",
        "  - The distribution shows the probabilities of different outcomes.\n",
        "Expected value is derived using those probabilities.\n",
        "Thus, it helps in predicting the average result over time."
      ],
      "metadata": {
        "id": "jciUnpKa9RZz"
      }
    }
  ]
}